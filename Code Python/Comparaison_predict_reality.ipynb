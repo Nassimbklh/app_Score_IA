{
 "cells": [
  {
   "cell_type": "code",
   "execution_count": 23,
   "metadata": {},
   "outputs": [],
   "source": [
    "import pandas as pd"
   ]
  },
  {
   "cell_type": "code",
   "execution_count": 24,
   "metadata": {},
   "outputs": [],
   "source": [
    "# Charger les fichiers CSV\n",
    "file_matches = 'matches_transformed.csv'\n",
    "file_predictions = 'predicted_match_results_ht_at_only.csv'"
   ]
  },
  {
   "cell_type": "code",
   "execution_count": 25,
   "metadata": {},
   "outputs": [],
   "source": [
    "# Charger les données dans des DataFrames\n",
    "df_matches = pd.read_csv(file_matches)\n",
    "df_predictions = pd.read_csv(file_predictions)"
   ]
  },
  {
   "cell_type": "code",
   "execution_count": 26,
   "metadata": {},
   "outputs": [],
   "source": [
    "# Fusionner les DataFrames sur HomeTeam et AwayTeam\n",
    "merged_df = pd.merge(df_matches, df_predictions, on=['HomeTeam', 'AwayTeam'])"
   ]
  },
  {
   "cell_type": "code",
   "execution_count": 27,
   "metadata": {},
   "outputs": [
    {
     "data": {
      "text/html": [
       "<div>\n",
       "<style scoped>\n",
       "    .dataframe tbody tr th:only-of-type {\n",
       "        vertical-align: middle;\n",
       "    }\n",
       "\n",
       "    .dataframe tbody tr th {\n",
       "        vertical-align: top;\n",
       "    }\n",
       "\n",
       "    .dataframe thead th {\n",
       "        text-align: right;\n",
       "    }\n",
       "</style>\n",
       "<table border=\"1\" class=\"dataframe\">\n",
       "  <thead>\n",
       "    <tr style=\"text-align: right;\">\n",
       "      <th></th>\n",
       "      <th>HomeTeam</th>\n",
       "      <th>AwayTeam</th>\n",
       "      <th>Score</th>\n",
       "      <th>Result</th>\n",
       "      <th>Prediction</th>\n",
       "    </tr>\n",
       "  </thead>\n",
       "  <tbody>\n",
       "    <tr>\n",
       "      <th>0</th>\n",
       "      <td>Arsenal</td>\n",
       "      <td>Everton</td>\n",
       "      <td>2 - 1</td>\n",
       "      <td>1</td>\n",
       "      <td>1.0</td>\n",
       "    </tr>\n",
       "    <tr>\n",
       "      <th>1</th>\n",
       "      <td>Chelsea</td>\n",
       "      <td>Bournemouth</td>\n",
       "      <td>2 - 1</td>\n",
       "      <td>1</td>\n",
       "      <td>1.0</td>\n",
       "    </tr>\n",
       "    <tr>\n",
       "      <th>2</th>\n",
       "      <td>Liverpool</td>\n",
       "      <td>Wolves</td>\n",
       "      <td>2 - 0</td>\n",
       "      <td>1</td>\n",
       "      <td>1.0</td>\n",
       "    </tr>\n",
       "    <tr>\n",
       "      <th>3</th>\n",
       "      <td>Luton Town</td>\n",
       "      <td>Fulham</td>\n",
       "      <td>2 - 4</td>\n",
       "      <td>0</td>\n",
       "      <td>NaN</td>\n",
       "    </tr>\n",
       "    <tr>\n",
       "      <th>4</th>\n",
       "      <td>Burnley</td>\n",
       "      <td>Nottm Forrest</td>\n",
       "      <td>1 - 2</td>\n",
       "      <td>0</td>\n",
       "      <td>NaN</td>\n",
       "    </tr>\n",
       "    <tr>\n",
       "      <th>...</th>\n",
       "      <td>...</td>\n",
       "      <td>...</td>\n",
       "      <td>...</td>\n",
       "      <td>...</td>\n",
       "      <td>...</td>\n",
       "    </tr>\n",
       "    <tr>\n",
       "      <th>374</th>\n",
       "      <td>Everton</td>\n",
       "      <td>Fulham</td>\n",
       "      <td>0 - 1</td>\n",
       "      <td>0</td>\n",
       "      <td>1.0</td>\n",
       "    </tr>\n",
       "    <tr>\n",
       "      <th>375</th>\n",
       "      <td>Sheffield United</td>\n",
       "      <td>Crystal Palace</td>\n",
       "      <td>0 - 1</td>\n",
       "      <td>0</td>\n",
       "      <td>NaN</td>\n",
       "    </tr>\n",
       "    <tr>\n",
       "      <th>376</th>\n",
       "      <td>Bournemouth</td>\n",
       "      <td>West Ham</td>\n",
       "      <td>1 - 1</td>\n",
       "      <td>0</td>\n",
       "      <td>0.0</td>\n",
       "    </tr>\n",
       "    <tr>\n",
       "      <th>377</th>\n",
       "      <td>Newcastle</td>\n",
       "      <td>Aston Villa</td>\n",
       "      <td>5 - 1</td>\n",
       "      <td>1</td>\n",
       "      <td>1.0</td>\n",
       "    </tr>\n",
       "    <tr>\n",
       "      <th>378</th>\n",
       "      <td>Burnley</td>\n",
       "      <td>Man City</td>\n",
       "      <td>0 - 3</td>\n",
       "      <td>0</td>\n",
       "      <td>0.0</td>\n",
       "    </tr>\n",
       "  </tbody>\n",
       "</table>\n",
       "<p>379 rows × 5 columns</p>\n",
       "</div>"
      ],
      "text/plain": [
       "             HomeTeam        AwayTeam  Score  Result  Prediction\n",
       "0             Arsenal         Everton  2 - 1       1         1.0\n",
       "1             Chelsea     Bournemouth  2 - 1       1         1.0\n",
       "2           Liverpool          Wolves  2 - 0       1         1.0\n",
       "3          Luton Town          Fulham  2 - 4       0         NaN\n",
       "4             Burnley   Nottm Forrest  1 - 2       0         NaN\n",
       "..                ...             ...    ...     ...         ...\n",
       "374           Everton          Fulham  0 - 1       0         1.0\n",
       "375  Sheffield United  Crystal Palace  0 - 1       0         NaN\n",
       "376       Bournemouth        West Ham  1 - 1       0         0.0\n",
       "377         Newcastle     Aston Villa  5 - 1       1         1.0\n",
       "378           Burnley        Man City  0 - 3       0         0.0\n",
       "\n",
       "[379 rows x 5 columns]"
      ]
     },
     "execution_count": 27,
     "metadata": {},
     "output_type": "execute_result"
    }
   ],
   "source": [
    "merged_df"
   ]
  },
  {
   "cell_type": "code",
   "execution_count": 28,
   "metadata": {},
   "outputs": [],
   "source": [
    "# Compter les NaN séparément dans Prediction\n",
    "nan_prediction_count = merged_df['Prediction'].isna().sum()"
   ]
  },
  {
   "cell_type": "code",
   "execution_count": 29,
   "metadata": {},
   "outputs": [],
   "source": [
    "# Supprimer les lignes avec NaN dans Prediction\n",
    "merged_df = merged_df.dropna(subset=['Prediction'])"
   ]
  },
  {
   "cell_type": "code",
   "execution_count": 30,
   "metadata": {},
   "outputs": [
    {
     "name": "stderr",
     "output_type": "stream",
     "text": [
      "C:\\Users\\sweez\\AppData\\Local\\Temp\\ipykernel_23888\\3067178521.py:2: SettingWithCopyWarning: \n",
      "A value is trying to be set on a copy of a slice from a DataFrame.\n",
      "Try using .loc[row_indexer,col_indexer] = value instead\n",
      "\n",
      "See the caveats in the documentation: https://pandas.pydata.org/pandas-docs/stable/user_guide/indexing.html#returning-a-view-versus-a-copy\n",
      "  merged_df['Equal'] = (merged_df['Result'] == merged_df['Prediction']).astype(int)\n"
     ]
    }
   ],
   "source": [
    "# Comparer Result et Prediction et compter les occurrences\n",
    "merged_df['Equal'] = (merged_df['Result'] == merged_df['Prediction']).astype(int)"
   ]
  },
  {
   "cell_type": "code",
   "execution_count": 31,
   "metadata": {},
   "outputs": [],
   "source": [
    "# Compter les égalités et les non-égalités\n",
    "equal_count = merged_df['Equal'].sum()\n",
    "not_equal_count = len(merged_df) - equal_count"
   ]
  },
  {
   "cell_type": "code",
   "execution_count": 32,
   "metadata": {},
   "outputs": [
    {
     "name": "stdout",
     "output_type": "stream",
     "text": [
      "Nombre de fois où 'Result' et 'Prediction' sont égaux : 159\n",
      "Nombre de fois où 'Result' et 'Prediction' ne sont pas égaux : 90\n",
      "Nombre de fois où 'Prediction' n'est pas disponible : 130\n"
     ]
    }
   ],
   "source": [
    "# Afficher les résultats\n",
    "print(f\"Nombre de fois où 'Result' et 'Prediction' sont égaux : {equal_count}\")\n",
    "print(f\"Nombre de fois où 'Result' et 'Prediction' ne sont pas égaux : {not_equal_count}\")\n",
    "print(f\"Nombre de fois où 'Prediction' n'est pas disponible : {nan_prediction_count}\")"
   ]
  },
  {
   "cell_type": "code",
   "execution_count": 33,
   "metadata": {},
   "outputs": [
    {
     "name": "stdout",
     "output_type": "stream",
     "text": [
      "Le modèle a 63.86% d'accuracy\n"
     ]
    }
   ],
   "source": [
    "accuracy = round(equal_count/(equal_count + not_equal_count) * 100, 2)\n",
    "print(f\"Le modèle a {accuracy}% d'accuracy\")"
   ]
  },
  {
   "cell_type": "code",
   "execution_count": null,
   "metadata": {},
   "outputs": [],
   "source": [
    "#https://www.oddsportal.com/football/england/premier-league-2023-2024/results/ Pour les cotes"
   ]
  }
 ],
 "metadata": {
  "kernelspec": {
   "display_name": "base",
   "language": "python",
   "name": "python3"
  },
  "language_info": {
   "codemirror_mode": {
    "name": "ipython",
    "version": 3
   },
   "file_extension": ".py",
   "mimetype": "text/x-python",
   "name": "python",
   "nbconvert_exporter": "python",
   "pygments_lexer": "ipython3",
   "version": "3.11.5"
  }
 },
 "nbformat": 4,
 "nbformat_minor": 2
}
