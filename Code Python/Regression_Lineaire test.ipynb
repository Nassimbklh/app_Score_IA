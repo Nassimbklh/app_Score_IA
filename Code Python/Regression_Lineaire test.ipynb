{
 "cells": [
  {
   "cell_type": "code",
   "execution_count": 37,
   "metadata": {},
   "outputs": [],
   "source": [
    "import pandas as pd\n",
    "import numpy as np\n",
    "from sklearn.linear_model import LinearRegression\n",
    "from sklearn.model_selection import train_test_split\n",
    "from sklearn.preprocessing import StandardScaler"
   ]
  },
  {
   "cell_type": "code",
   "execution_count": 38,
   "metadata": {},
   "outputs": [],
   "source": [
    "# Charger les données\n",
    "data = pd.read_csv('Données/dataset.csv')\n",
    "\n",
    "data = data.drop(columns=['Unnamed: 0'])\n",
    "\n",
    "# Remplir les valeurs manquantes avec 0 (si nécessaire)\n",
    "#data.fillna(0, inplace=True)"
   ]
  },
  {
   "cell_type": "code",
   "execution_count": 39,
   "metadata": {},
   "outputs": [
    {
     "data": {
      "text/plain": [
       "Index(['Date', 'HomeTeam', 'AwayTeam', 'FTHG', 'FTAG', 'FTR', 'HTGS', 'ATGS',\n",
       "       'HTGC', 'ATGC', 'HTP', 'ATP', 'HM1', 'HM2', 'HM3', 'HM4', 'HM5', 'AM1',\n",
       "       'AM2', 'AM3', 'AM4', 'AM5', 'MW', 'HTFormPtsStr', 'ATFormPtsStr',\n",
       "       'HTFormPts', 'ATFormPts', 'HTWinStreak3', 'HTWinStreak5',\n",
       "       'HTLossStreak3', 'HTLossStreak5', 'ATWinStreak3', 'ATWinStreak5',\n",
       "       'ATLossStreak3', 'ATLossStreak5', 'HTGD', 'ATGD', 'DiffPts',\n",
       "       'DiffFormPts'],\n",
       "      dtype='object')"
      ]
     },
     "execution_count": 39,
     "metadata": {},
     "output_type": "execute_result"
    }
   ],
   "source": [
    "data.columns"
   ]
  },
  {
   "cell_type": "code",
   "execution_count": 40,
   "metadata": {},
   "outputs": [],
   "source": [
    "# Sélectionner les fonctionnalités\n",
    "features = ['FTHG', 'FTAG', 'HTGS', 'ATGS', 'HTGC'\n",
    "            , 'ATGC', 'HTP', 'ATP', 'MW', 'HTFormPts', 'ATFormPts'\n",
    "            , 'HTWinStreak3', 'HTWinStreak5', 'HTLossStreak3', 'HTLossStreak5'\n",
    "            , 'ATWinStreak3', 'ATWinStreak5', 'ATLossStreak3', 'ATLossStreak5'\n",
    "            , 'HTGD', 'ATGD', 'DiffPts', 'DiffFormPts']"
   ]
  },
  {
   "cell_type": "code",
   "execution_count": 41,
   "metadata": {},
   "outputs": [],
   "source": [
    "# Saisir l'équipe à domicile et l'équipe à l'extérieur\n",
    "home_team = 'Chelsea' #input(\"Enter the Home Team: \")\n",
    "away_team = 'Arsenal' #input(\"Enter the Away Team: \")"
   ]
  },
  {
   "cell_type": "code",
   "execution_count": 51,
   "metadata": {},
   "outputs": [],
   "source": [
    "training_data = data.loc[np.where((data['HomeTeam'] == home_team) | (data['AwayTeam'] == away_team))] # np.where((data['HomeTeam'] == home_team) & (data['AwayTeam'] == away_team))"
   ]
  },
  {
   "cell_type": "code",
   "execution_count": 52,
   "metadata": {},
   "outputs": [
    {
     "data": {
      "text/plain": [
       "(666, 39)"
      ]
     },
     "execution_count": 52,
     "metadata": {},
     "output_type": "execute_result"
    }
   ],
   "source": [
    "training_data.shape"
   ]
  },
  {
   "cell_type": "code",
   "execution_count": 54,
   "metadata": {},
   "outputs": [],
   "source": [
    "# Initialiser les modèles de régression linéaire\n",
    "model = {feature: LinearRegression() for feature in features}\n",
    "scaler = {feature: StandardScaler() for feature in features}"
   ]
  },
  {
   "cell_type": "code",
   "execution_count": 55,
   "metadata": {},
   "outputs": [
    {
     "name": "stdout",
     "output_type": "stream",
     "text": [
      "MSE pour FTHG: 1.9412975493115734\n"
     ]
    },
    {
     "name": "stdout",
     "output_type": "stream",
     "text": [
      "MSE pour FTAG: 0.8612624543150496\n",
      "MSE pour HTGS: 30.847766911539587\n",
      "MSE pour ATGS: 35.35532628475825\n",
      "MSE pour HTGC: 18.170209084050487\n",
      "MSE pour ATGC: 22.54303993187963\n",
      "MSE pour HTP: 9.163425200234605e-30\n",
      "MSE pour ATP: 2.4003641017920485e-30\n",
      "MSE pour MW: 4.848552966637113\n",
      "MSE pour HTFormPts: 2.3217640836072846\n",
      "MSE pour ATFormPts: 3.2022103863160836\n",
      "MSE pour HTWinStreak3: 0.06051993990545248\n",
      "MSE pour HTWinStreak5: 0.02187195865258697\n",
      "MSE pour HTLossStreak3: 0.015165337601605787\n",
      "MSE pour HTLossStreak5: 0.005866425318287916\n",
      "MSE pour ATWinStreak3: 0.048239104912921715\n",
      "MSE pour ATWinStreak5: 0.025220952779508737\n",
      "MSE pour ATLossStreak3: 0.025485548469346295\n",
      "MSE pour ATLossStreak5: 0.00625410351688142\n",
      "MSE pour HTGD: 0.04707068155270433\n",
      "MSE pour ATGD: 0.07416494612850826\n",
      "MSE pour DiffPts: 1.0093012836340714e-30\n",
      "MSE pour DiffFormPts: 0.026318543468455798\n"
     ]
    }
   ],
   "source": [
    "models = [] # Liste pour stocker les modèles\n",
    "\n",
    "# Entraîner un modèle pour chaque fonctionnalité\n",
    "for feature in features:\n",
    "    \n",
    "    X = training_data[features].drop(columns=[feature]) # Retirer la colonne que l'on souhaite prédire\n",
    "    y = training_data[feature]\n",
    "\n",
    "    X_train, X_test, y_train, y_test = train_test_split(X, y, test_size=0.2, random_state=42)\n",
    "\n",
    "    # Normaliser\n",
    "    X_train_scaled = scaler[feature].fit_transform(X_train)\n",
    "    X_test_scaled = scaler[feature].transform(X_test)\n",
    "\n",
    "    model[feature].fit(X_train_scaled, y_train)\n",
    "    models.append(model)\n",
    "\n",
    "    y_pred = model[feature].predict(X_test_scaled)\n",
    "    mse = np.mean((y_pred - y_test) ** 2)\n",
    "    print(f\"MSE pour {feature}: {mse}\")"
   ]
  },
  {
   "cell_type": "code",
   "execution_count": null,
   "metadata": {},
   "outputs": [],
   "source": [
    "if not home_team_data.empty and not away_team_data.empty:\n",
    "    # Utiliser les données de la dernière rencontre pour faire des prédictions\n",
    "    combined_data = pd.concat([home_team_data, away_team_data], axis=0)\n",
    "\n",
    "    # Filtrer uniquement les colonnes numériques pour le calcul de la moyenne\n",
    "    combined_data_numeric = combined_data[features].mean(axis=0)\n",
    "\n",
    "    # Créer une DataFrame temporaire pour contenir les valeurs moyennes des caractéristiques / .T transpose la matrice pour obtenir une ligne unique de valeurs moyennes\n",
    "    combined_data_df = pd.DataFrame(combined_data_numeric).T\n",
    "\n",
    "    predicted_features = {}\n",
    "    for feature in features:\n",
    "        combined_data_scaled = scalers[feature].transform(combined_data_df.drop(columns=[feature]))\n",
    "        predicted_features[feature] = models[feature].predict(combined_data_scaled)[0]\n",
    "\n",
    "    # Créer un DataFrame avec les résultats\n",
    "    results = pd.DataFrame({\n",
    "        'HomeTeam': [home_team],\n",
    "        'AwayTeam': [away_team],\n",
    "        'FTHG': [predicted_features['FTHG']],\n",
    "        'FTAG': [predicted_features['FTAG']],\n",
    "        'FTR': [np.nan],  # La colonne FTR est initialisée avec NaN pour être prédite ensuite\n",
    "        'HTGS': [predicted_features['HTGS']],\n",
    "        'ATGS': [predicted_features['ATGS']],\n",
    "        'HTGC': [predicted_features['HTGC']],\n",
    "        'ATGC': [predicted_features['ATGC']],\n",
    "        'HTP': [predicted_features['HTP']],\n",
    "        'ATP': [predicted_features['ATP']],\n",
    "        'MW': [predicted_features['MW']],\n",
    "        'HTFormPts': [predicted_features['HTFormPts']],\n",
    "        'ATFormPts': [predicted_features['ATFormPts']],\n",
    "        'HTWinStreak3': [predicted_features['HTWinStreak3']],\n",
    "        'HTWinStreak5': [predicted_features['HTWinStreak5']],\n",
    "        'HTLossStreak3': [predicted_features['HTLossStreak3']],\n",
    "        'HTLossStreak5': [predicted_features['HTLossStreak5']],\n",
    "        'ATWinStreak3': [predicted_features['ATWinStreak3']],\n",
    "        'ATWinStreak5': [predicted_features['ATWinStreak5']],\n",
    "        'ATLossStreak3': [predicted_features['ATLossStreak3']],\n",
    "        'ATLossStreak5': [predicted_features['ATLossStreak5']],\n",
    "        'HTGD': [predicted_features['HTGD']],\n",
    "        'ATGD': [predicted_features['ATGD']],\n",
    "        'DiffPts': [predicted_features['DiffPts']],\n",
    "        'DiffFormPts': [predicted_features['DiffFormPts']]\n",
    "    })\n",
    "\n",
    "    # Enregistrer les résultats dans un fichier CSV\n",
    "    results.to_csv('predicted_match_features.csv', index=False)\n",
    "    print(\"Predicted features saved to 'predicted_match_features.csv'\")\n",
    "    \n",
    "else:\n",
    "    print(\"Les données pour les équipes spécifiées ne sont pas disponibles dans le dataset.\")"
   ]
  }
 ],
 "metadata": {
  "kernelspec": {
   "display_name": "base",
   "language": "python",
   "name": "python3"
  },
  "language_info": {
   "codemirror_mode": {
    "name": "ipython",
    "version": 3
   },
   "file_extension": ".py",
   "mimetype": "text/x-python",
   "name": "python",
   "nbconvert_exporter": "python",
   "pygments_lexer": "ipython3",
   "version": "3.11.5"
  }
 },
 "nbformat": 4,
 "nbformat_minor": 2
}
