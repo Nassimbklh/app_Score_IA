{
 "cells": [
  {
   "cell_type": "code",
   "execution_count": 10,
   "metadata": {},
   "outputs": [],
   "source": [
    "import pandas as pd\n",
    "import numpy as np\n",
    "from sklearn.linear_model import LinearRegression\n",
    "from sklearn.model_selection import train_test_split\n",
    "from sklearn.preprocessing import StandardScaler\n",
    "from datetime import datetime\n",
    "import os"
   ]
  },
  {
   "cell_type": "code",
   "execution_count": 2,
   "metadata": {},
   "outputs": [],
   "source": [
    "# Charger les données\n",
    "data = pd.read_csv('Données/dataset.csv')\n",
    "\n",
    "# Remplir les valeurs manquantes avec 0 (si nécessaire)\n",
    "#data.fillna(0, inplace=True)"
   ]
  },
  {
   "cell_type": "code",
   "execution_count": 3,
   "metadata": {},
   "outputs": [],
   "source": [
    "# Sélectionner les fonctionnalités\n",
    "features = ['FTHG', 'FTAG', 'HTGS', 'ATGS', 'HTGC'\n",
    "            , 'ATGC', 'HTP', 'ATP', 'MW', 'HTFormPts', 'ATFormPts'\n",
    "            , 'HTWinStreak3', 'HTWinStreak5', 'HTLossStreak3', 'HTLossStreak5'\n",
    "            , 'ATWinStreak3', 'ATWinStreak5', 'ATLossStreak3', 'ATLossStreak5'\n",
    "            , 'HTGD', 'ATGD', 'DiffPts', 'DiffFormPts']"
   ]
  },
  {
   "cell_type": "code",
   "execution_count": 4,
   "metadata": {},
   "outputs": [],
   "source": [
    "# Initialiser les modèles de régression linéaire\n",
    "models = {feature: LinearRegression() for feature in features}\n",
    "scalers = {feature: StandardScaler() for feature in features}"
   ]
  },
  {
   "cell_type": "code",
   "execution_count": 5,
   "metadata": {},
   "outputs": [
    {
     "name": "stdout",
     "output_type": "stream",
     "text": [
      "MSE pour FTHG: 1.4440130382663776\n",
      "MSE pour FTAG: 1.2180614077561605\n",
      "MSE pour HTGS: 22.92092061288901\n",
      "MSE pour ATGS: 23.312658800405337\n",
      "MSE pour HTGC: 19.52716498801564\n",
      "MSE pour ATGC: 21.31147703626085\n",
      "MSE pour HTP: 1.925598256452369e-30\n",
      "MSE pour ATP: 3.0228044877316518e-30\n",
      "MSE pour MW: 4.581460978512325\n",
      "MSE pour HTFormPts: 2.9539711190718214\n",
      "MSE pour ATFormPts: 2.951828511720623\n",
      "MSE pour HTWinStreak3: 0.03894659750470024\n",
      "MSE pour HTWinStreak5: 0.01366547225081605\n",
      "MSE pour HTLossStreak3: 0.03484590185547092\n",
      "MSE pour HTLossStreak5: 0.010255215196860437\n",
      "MSE pour ATWinStreak3: 0.03621295349910149\n",
      "MSE pour ATWinStreak5: 0.01120446373399995\n",
      "MSE pour ATLossStreak3: 0.03222532049682414\n",
      "MSE pour ATLossStreak5: 0.006964885716210765\n",
      "MSE pour HTGD: 0.06767812570219839\n",
      "MSE pour ATGD: 0.06508168607975043\n",
      "MSE pour DiffPts: 2.0737817089464915e-30\n",
      "MSE pour DiffFormPts: 0.022152394676078425\n"
     ]
    }
   ],
   "source": [
    "# Entraîner un modèle pour chaque fonctionnalité\n",
    "for feature in features:\n",
    "    X = data[features].drop(columns=[feature]) # Retirer la colonne que l'on souhaite prédire\n",
    "    y = data[feature]\n",
    "\n",
    "    X_train, X_test, y_train, y_test = train_test_split(X, y, test_size=0.2, random_state=42)\n",
    "\n",
    "    # Normaliser\n",
    "    X_train_scaled = scalers[feature].fit_transform(X_train)\n",
    "    X_test_scaled = scalers[feature].transform(X_test)\n",
    "\n",
    "    models[feature].fit(X_train_scaled, y_train)\n",
    "\n",
    "    y_pred = models[feature].predict(X_test_scaled)\n",
    "    mse = np.mean((y_pred - y_test) ** 2)\n",
    "    print(f\"MSE pour {feature}: {mse}\")"
   ]
  },
  {
   "cell_type": "code",
   "execution_count": 16,
   "metadata": {},
   "outputs": [],
   "source": [
    "# Saisir l'équipe à domicile et l'équipe à l'extérieur\n",
    "home_team = 'Chelsea' #input(\"Enter the Home Team: \")\n",
    "away_team = 'Arsenal' #input(\"Enter the Away Team: \")"
   ]
  },
  {
   "cell_type": "code",
   "execution_count": 17,
   "metadata": {},
   "outputs": [],
   "source": [
    "# Filtrer les données pour les équipes spécifiques\n",
    "filtered_data = data.loc[np.where((data['HomeTeam'] == home_team) & (data['AwayTeam'] == away_team))] #data.loc[np.where((data['HomeTeam'] == home_team) | (data['AwayTeam'] == away_team))]"
   ]
  },
  {
   "cell_type": "code",
   "execution_count": 18,
   "metadata": {},
   "outputs": [
    {
     "data": {
      "text/plain": [
       "(17, 40)"
      ]
     },
     "execution_count": 18,
     "metadata": {},
     "output_type": "execute_result"
    }
   ],
   "source": [
    "filtered_data.shape"
   ]
  },
  {
   "cell_type": "code",
   "execution_count": 19,
   "metadata": {},
   "outputs": [
    {
     "name": "stdout",
     "output_type": "stream",
     "text": [
      "Les prédictions du match sont stockées dans 'predicted_Man City_Arsenal_20240627.csv'\n"
     ]
    }
   ],
   "source": [
    "if not filtered_data.empty:\n",
    "\n",
    "    # Filtrer uniquement les colonnes numériques pour le calcul de la moyenne\n",
    "    combined_data_numeric = filtered_data[features].mean(axis=0)\n",
    "\n",
    "    # Créer une DataFrame temporaire pour contenir les valeurs moyennes des caractéristiques / .T transpose la matrice pour obtenir une ligne unique de valeurs moyennes\n",
    "    combined_data_df = pd.DataFrame(combined_data_numeric).T\n",
    "\n",
    "    predicted_features = {}\n",
    "    for feature in features:\n",
    "        combined_data_scaled = scalers[feature].transform(combined_data_df.drop(columns=[feature]))\n",
    "        predicted_features[feature] = models[feature].predict(combined_data_scaled)[0]\n",
    "\n",
    "    # Créer un DataFrame avec les résultats\n",
    "    results = pd.DataFrame({\n",
    "        'HomeTeam': [home_team],\n",
    "        'AwayTeam': [away_team],\n",
    "        'FTHG': [predicted_features['FTHG']],\n",
    "        'FTAG': [predicted_features['FTAG']],\n",
    "        'FTR': [np.nan],  # La colonne FTR est initialisée avec NaN pour être prédite ensuite\n",
    "        'HTGS': [predicted_features['HTGS']],\n",
    "        'ATGS': [predicted_features['ATGS']],\n",
    "        'HTGC': [predicted_features['HTGC']],\n",
    "        'ATGC': [predicted_features['ATGC']],\n",
    "        'HTP': [predicted_features['HTP']],\n",
    "        'ATP': [predicted_features['ATP']],\n",
    "        'MW': [predicted_features['MW']],\n",
    "        'HTFormPts': [predicted_features['HTFormPts']],\n",
    "        'ATFormPts': [predicted_features['ATFormPts']],\n",
    "        'HTWinStreak3': [predicted_features['HTWinStreak3']],\n",
    "        'HTWinStreak5': [predicted_features['HTWinStreak5']],\n",
    "        'HTLossStreak3': [predicted_features['HTLossStreak3']],\n",
    "        'HTLossStreak5': [predicted_features['HTLossStreak5']],\n",
    "        'ATWinStreak3': [predicted_features['ATWinStreak3']],\n",
    "        'ATWinStreak5': [predicted_features['ATWinStreak5']],\n",
    "        'ATLossStreak3': [predicted_features['ATLossStreak3']],\n",
    "        'ATLossStreak5': [predicted_features['ATLossStreak5']],\n",
    "        'HTGD': [predicted_features['HTGD']],\n",
    "        'ATGD': [predicted_features['ATGD']],\n",
    "        'DiffPts': [predicted_features['DiffPts']],\n",
    "        'DiffFormPts': [predicted_features['DiffFormPts']]\n",
    "    })\n",
    "\n",
    "    # Enregistrer les résultats dans un fichier CSV avec date et noms d'équipe\n",
    "    current_date = datetime.now().strftime(\"%Y%m%d\")\n",
    "\n",
    "    # Spécifier le chemin où vous souhaitez enregistrer le fichier CSV\n",
    "    output_path = 'Prédictions à prédire'\n",
    "    file_name = f'predicted_{home_team}_{away_team}_{current_date}.csv'\n",
    "    file_path = os.path.join(output_path, file_name)\n",
    "\n",
    "    results.to_csv(file_path, index=False)\n",
    "    print(f\"Les prédictions du match sont stockées dans 'predicted_{home_team}_{away_team}_{current_date}.csv'\")\n",
    "    \n",
    "else:\n",
    "    print(\"Les données pour les équipes spécifiées ne sont pas disponibles dans le dataset.\")"
   ]
  },
  {
   "cell_type": "code",
   "execution_count": null,
   "metadata": {},
   "outputs": [],
   "source": []
  }
 ],
 "metadata": {
  "kernelspec": {
   "display_name": "base",
   "language": "python",
   "name": "python3"
  },
  "language_info": {
   "codemirror_mode": {
    "name": "ipython",
    "version": 3
   },
   "file_extension": ".py",
   "mimetype": "text/x-python",
   "name": "python",
   "nbconvert_exporter": "python",
   "pygments_lexer": "ipython3",
   "version": "3.11.5"
  }
 },
 "nbformat": 4,
 "nbformat_minor": 2
}
