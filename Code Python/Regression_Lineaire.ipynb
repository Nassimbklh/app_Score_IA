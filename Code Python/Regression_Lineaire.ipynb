{
 "cells": [
  {
   "cell_type": "code",
   "execution_count": 53,
   "metadata": {},
   "outputs": [],
   "source": [
    "import pandas as pd\n",
    "import numpy as np\n",
    "import os\n",
    "from datetime import datetime\n",
    "import pickle\n",
    "import joblib\n",
    "\n",
    "from sklearn.linear_model import LinearRegression\n",
    "from sklearn.model_selection import train_test_split\n",
    "from sklearn.preprocessing import StandardScaler"
   ]
  },
  {
   "cell_type": "code",
   "execution_count": 54,
   "metadata": {},
   "outputs": [],
   "source": [
    "# Charger les données\n",
    "data = pd.read_csv('Données/dataset.csv')\n",
    "\n",
    "# Remplir les valeurs manquantes avec 0 (si nécessaire)\n",
    "#data.fillna(0, inplace=True)"
   ]
  },
  {
   "cell_type": "code",
   "execution_count": 55,
   "metadata": {},
   "outputs": [],
   "source": [
    "# Sélectionner les fonctionnalités\n",
    "features = ['FTHG', 'FTAG', 'HTGS', 'ATGS', 'HTGC'\n",
    "            , 'ATGC', 'HTP', 'ATP', 'MW', 'HTFormPts', 'ATFormPts'\n",
    "            , 'HTWinStreak3', 'HTWinStreak5', 'HTLossStreak3', 'HTLossStreak5'\n",
    "            , 'ATWinStreak3', 'ATWinStreak5', 'ATLossStreak3', 'ATLossStreak5'\n",
    "            , 'HTGD', 'ATGD', 'DiffPts', 'DiffFormPts']"
   ]
  },
  {
   "cell_type": "code",
   "execution_count": 56,
   "metadata": {},
   "outputs": [],
   "source": [
    "# Initialiser les modèles de régression linéaire\n",
    "models = {feature: LinearRegression() for feature in features}\n",
    "scalers = {feature: StandardScaler() for feature in features}"
   ]
  },
  {
   "cell_type": "code",
   "execution_count": 57,
   "metadata": {},
   "outputs": [
    {
     "name": "stdout",
     "output_type": "stream",
     "text": [
      "MSE pour FTHG: 1.4440130382663776\n",
      "MSE pour FTAG: 1.2180614077561605\n",
      "MSE pour HTGS: 22.92092061288901\n",
      "MSE pour ATGS: 23.312658800405337\n",
      "MSE pour HTGC: 19.52716498801564\n",
      "MSE pour ATGC: 21.31147703626085\n",
      "MSE pour HTP: 1.925598256452369e-30\n",
      "MSE pour ATP: 3.0228044877316518e-30\n",
      "MSE pour MW: 4.581460978512325\n",
      "MSE pour HTFormPts: 2.9539711190718214\n",
      "MSE pour ATFormPts: 2.951828511720623\n",
      "MSE pour HTWinStreak3: 0.03894659750470024\n",
      "MSE pour HTWinStreak5: 0.01366547225081605\n",
      "MSE pour HTLossStreak3: 0.03484590185547092\n",
      "MSE pour HTLossStreak5: 0.010255215196860437\n",
      "MSE pour ATWinStreak3: 0.03621295349910149\n",
      "MSE pour ATWinStreak5: 0.01120446373399995\n",
      "MSE pour ATLossStreak3: 0.03222532049682414\n",
      "MSE pour ATLossStreak5: 0.006964885716210765\n",
      "MSE pour HTGD: 0.06767812570219839\n",
      "MSE pour ATGD: 0.06508168607975043\n",
      "MSE pour DiffPts: 2.0737817089464915e-30\n",
      "MSE pour DiffFormPts: 0.022152394676078425\n"
     ]
    }
   ],
   "source": [
    "# Entraîner un modèle pour chaque fonctionnalité\n",
    "for feature in features:\n",
    "    X = data[features].drop(columns=[feature]) # Retirer la colonne que l'on souhaite prédire\n",
    "    y = data[feature]\n",
    "\n",
    "    X_train, X_test, y_train, y_test = train_test_split(X, y, test_size=0.2, random_state=42)\n",
    "\n",
    "    # Normaliser\n",
    "    X_train_scaled = scalers[feature].fit_transform(X_train)\n",
    "    X_test_scaled = scalers[feature].transform(X_test)\n",
    "\n",
    "    models[feature].fit(X_train_scaled, y_train)\n",
    "\n",
    "    y_pred = models[feature].predict(X_test_scaled)\n",
    "    mse = np.mean((y_pred - y_test) ** 2)\n",
    "    print(f\"MSE pour {feature}: {mse}\")"
   ]
  },
  {
   "cell_type": "code",
   "execution_count": 59,
   "metadata": {},
   "outputs": [
    {
     "name": "stdout",
     "output_type": "stream",
     "text": [
      "Models saved to 'Modèles\\models.pkl'\n",
      "Scalers saved to 'Modèles\\scalers.pkl'\n"
     ]
    }
   ],
   "source": [
    "# Chemin pour enregistrer les dictionnaires des modèles\n",
    "models_path = 'Modèles\\models.pkl'\n",
    "scalers_path = 'Modèles\\scalers.pkl'\n",
    "\n",
    "# Enregistrer le dictionnaire des modèles dans un fichier\n",
    "with open(models_path, 'wb') as file:\n",
    "    pickle.dump(models, file)\n",
    "print(f\"Models saved to '{models_path}'\")\n",
    "\n",
    "# Enregistrer le dictionnaire des scalers dans un fichier\n",
    "with open(scalers_path, 'wb') as file:\n",
    "    pickle.dump(scalers, file)\n",
    "print(f\"Scalers saved to '{scalers_path}'\")"
   ]
  }
 ],
 "metadata": {
  "kernelspec": {
   "display_name": "base",
   "language": "python",
   "name": "python3"
  },
  "language_info": {
   "codemirror_mode": {
    "name": "ipython",
    "version": 3
   },
   "file_extension": ".py",
   "mimetype": "text/x-python",
   "name": "python",
   "nbconvert_exporter": "python",
   "pygments_lexer": "ipython3",
   "version": "3.11.5"
  }
 },
 "nbformat": 4,
 "nbformat_minor": 2
}
