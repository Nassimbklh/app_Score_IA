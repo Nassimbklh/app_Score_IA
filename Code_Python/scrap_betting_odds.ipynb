{
 "cells": [
  {
   "cell_type": "code",
   "execution_count": 64,
   "metadata": {},
   "outputs": [],
   "source": [
    "import pandas as pd\n",
    "import requests\n",
    "from bs4 import BeautifulSoup\n",
    "import csv\n",
    "import json\n",
    "import random\n",
    "import time\n",
    "from pandas import json_normalize"
   ]
  },
  {
   "cell_type": "markdown",
   "metadata": {},
   "source": [
    "Premier match : https://www.winamax.fr/paris-sportifs/match/41762837\n",
    "\n",
    "Dernier match : https://www.winamax.fr/paris-sportifs/match/41763451"
   ]
  },
  {
   "cell_type": "markdown",
   "metadata": {},
   "source": [
    "# Nombre de pages à scraper\n",
    "premiere_page = 41762837  # Par exemple, scraper les 6 premières pages\n",
    "derniere_page = 41763451\n",
    "num_pages = (derniere_page - premiere_page) / 2\n",
    "\n",
    "for page_number in range(premiere_page, derniere_page + 1, 2):\n",
    "    print(page_number)"
   ]
  },
  {
   "cell_type": "code",
   "execution_count": 2,
   "metadata": {},
   "outputs": [],
   "source": [
    "user_agent = \"Mozilla/5.0 (Macintosh; Intel Mac OS X 10_15_6) AppleWebKit/537.36 (KHTML, like Gecko) Chrome/87.0.4280.141 Safari/537.36\""
   ]
  },
  {
   "cell_type": "code",
   "execution_count": 61,
   "metadata": {},
   "outputs": [],
   "source": [
    "# URL de base avec le paramètre page_number\n",
    "base_url = \"https://www.winamax.fr/paris-sportifs/match/{}\"\n",
    "\n",
    "# Nombre de pages à scraper\n",
    "premiere_page = 41762837\n",
    "derniere_page = 41763451\n",
    "\n",
    "# Liste pour stocker les résultats\n",
    "games = []\n",
    "\n",
    "# Boucle à travers les pages\n",
    "for page_number in range(premiere_page, derniere_page + 1, 2):\n",
    "    # URL de la page spécifique\n",
    "    url = base_url.format(page_number)\n",
    "\n",
    "    # Faire la requête GET\n",
    "    response = requests.get(url, headers={'User-Agent': user_agent})\n",
    "\n",
    "    # Vérifier si la requête a réussi\n",
    "    if response.status_code == 200:\n",
    "        html = response.text\n",
    "        split1 = html.split(\"var PRELOADED_STATE = \")[1]\n",
    "        split2 = split1.split(\";</script>\")[0]\n",
    "\n",
    "        json_games = json.loads(split2)\n",
    "        \n",
    "        if (json_games['matches'][str(page_number)] is None) \\\n",
    "            or (json_games['matches'][str(page_number)]['mainBetId'] is None) \\\n",
    "            or (json_games['matches'][str(page_number)]['bets'][1] is None) :\n",
    "            games.append(None)\n",
    "\n",
    "        else:\n",
    "            team1 = \"\".join(json_games['matches'][str(page_number)]['competitor1Name'].split())\n",
    "            team2 = \"\".join(json_games['matches'][str(page_number)]['competitor2Name'].split())\n",
    "            main_bet_id = json_games['matches'][str(page_number)]['mainBetId']\n",
    "            main_bet = json_games['bets'][str(main_bet_id)]['outcomes']            \n",
    "            double_chance_bet_id = json_games['matches'][str(page_number)]['bets'][1]\n",
    "            double_chance_bet = json_games['bets'][str(double_chance_bet_id)]['outcomes']\n",
    "\n",
    "            if (len(main_bet) == 3) and (len(double_chance_bet) == 3):\n",
    "                home_win_odds = json_games['odds'][str(main_bet[0])]\n",
    "                home_dont_win = json_games['odds'][str(double_chance_bet[2])]\n",
    "            else:\n",
    "                home_win_odds = None\n",
    "                home_dont_win = None\n",
    "        \n",
    "            # Créer une entrée avec les informations\n",
    "            game_entry = {\n",
    "                'team1': team1,\n",
    "                'team2': team2,\n",
    "                'home_win_odds': home_win_odds,\n",
    "                'home_dont_win': home_dont_win\n",
    "            }\n",
    "\n",
    "            # Ajouter l'entrée à la liste games\n",
    "            games.append(game_entry)\n",
    "\n",
    "    else:\n",
    "        print(f\"Erreur {response.status_code} lors de la récupération de la page {url}\")\n",
    "\n",
    "    #time.sleep(random.uniform(2.61, 7.09))\n",
    "\n",
    "## Nom du fichier CSV à créer\n",
    "#csv_filename = 'matches.csv'\n",
    "#\n",
    "## Écriture des résultats dans un fichier CSV\n",
    "#with open(csv_filename, mode='w', newline='', encoding='utf-8') as file:\n",
    "#    writer = csv.writer(file)\n",
    "#    writer.writerow(['HomeTeam', 'AwayTeam', 'Score'])  # Écrire l'en-tête des colonnes\n",
    "#    writer.writerows(results)\n",
    "#\n",
    "#print(f\"Données sauvegardées dans {csv_filename}\")"
   ]
  },
  {
   "cell_type": "code",
   "execution_count": 71,
   "metadata": {},
   "outputs": [],
   "source": [
    "# URL de base avec le paramètre page_number\n",
    "base_url = \"https://www.winamax.fr/paris-sportifs/match/{}\"\n",
    "\n",
    "# Nombre de pages à scraper\n",
    "premiere_page = 41763569\n",
    "derniere_page = 41763663\n",
    "\n",
    "# Liste pour stocker les résultats\n",
    "games1 = []\n",
    "\n",
    "# Boucle à travers les pages\n",
    "for page_number in range(premiere_page, derniere_page + 1, 2):\n",
    "    # URL de la page spécifique\n",
    "    url = base_url.format(page_number)\n",
    "\n",
    "    # Faire la requête GET\n",
    "    response = requests.get(url, headers={'User-Agent': user_agent})\n",
    "\n",
    "    # Vérifier si la requête a réussi\n",
    "    if response.status_code == 200:\n",
    "        html = response.text\n",
    "        split1 = html.split(\"var PRELOADED_STATE = \")[1]\n",
    "        split2 = split1.split(\";</script>\")[0]\n",
    "\n",
    "        json_games = json.loads(split2)\n",
    "        \n",
    "        if (json_games['matches'][str(page_number)] is None) \\\n",
    "            or (json_games['matches'][str(page_number)]['mainBetId'] is None) \\\n",
    "            or (json_games['matches'][str(page_number)]['bets'][1] is None) :\n",
    "            games1.append(None)\n",
    "\n",
    "        else:\n",
    "            team1 = \"\".join(json_games['matches'][str(page_number)]['competitor1Name'].split())\n",
    "            team2 = \"\".join(json_games['matches'][str(page_number)]['competitor2Name'].split())\n",
    "            main_bet_id = json_games['matches'][str(page_number)]['mainBetId']\n",
    "            main_bet = json_games['bets'][str(main_bet_id)]['outcomes']            \n",
    "            double_chance_bet_id = json_games['matches'][str(page_number)]['bets'][2]\n",
    "            double_chance_bet = json_games['bets'][str(double_chance_bet_id)]['outcomes']\n",
    "\n",
    "            if (len(main_bet) == 3) and (len(double_chance_bet) == 3):\n",
    "                home_win_odds = json_games['odds'][str(main_bet[0])]\n",
    "                home_dont_win = json_games['odds'][str(double_chance_bet[2])]\n",
    "            else:\n",
    "                home_win_odds = None\n",
    "                home_dont_win = None\n",
    "        \n",
    "            # Créer une entrée avec les informations\n",
    "            game_entry1 = {\n",
    "                'team1': team1,\n",
    "                'team2': team2,\n",
    "                'home_win_odds': home_win_odds,\n",
    "                'home_dont_win': home_dont_win\n",
    "            }\n",
    "\n",
    "            # Ajouter l'entrée à la liste games\n",
    "            games1.append(game_entry1)\n",
    "\n",
    "    else:\n",
    "        print(f\"Erreur {response.status_code} lors de la récupération de la page {url}\")\n",
    "\n",
    "    #time.sleep(random.uniform(2.61, 7.09))\n",
    "\n",
    "## Nom du fichier CSV à créer\n",
    "#csv_filename = 'matches.csv'\n",
    "#\n",
    "## Écriture des résultats dans un fichier CSV\n",
    "#with open(csv_filename, mode='w', newline='', encoding='utf-8') as file:\n",
    "#    writer = csv.writer(file)\n",
    "#    writer.writerow(['HomeTeam', 'AwayTeam', 'Score'])  # Écrire l'en-tête des colonnes\n",
    "#    writer.writerows(results)\n",
    "#\n",
    "#print(f\"Données sauvegardées dans {csv_filename}\")"
   ]
  },
  {
   "cell_type": "code",
   "execution_count": 73,
   "metadata": {},
   "outputs": [],
   "source": [
    "df_games1 = json_normalize(games1)"
   ]
  },
  {
   "cell_type": "code",
   "execution_count": 65,
   "metadata": {},
   "outputs": [],
   "source": [
    "df_games = json_normalize(games)"
   ]
  },
  {
   "cell_type": "code",
   "execution_count": 81,
   "metadata": {},
   "outputs": [],
   "source": [
    "df_games_final_with_na = pd.concat([df_games, df_games1])"
   ]
  },
  {
   "cell_type": "code",
   "execution_count": 76,
   "metadata": {},
   "outputs": [
    {
     "data": {
      "text/plain": [
       "(356, 4)"
      ]
     },
     "execution_count": 76,
     "metadata": {},
     "output_type": "execute_result"
    }
   ],
   "source": [
    "df_games_final_with_na.shape"
   ]
  },
  {
   "cell_type": "code",
   "execution_count": 87,
   "metadata": {},
   "outputs": [],
   "source": [
    "df_games_final = df_games_final_with_na.dropna()"
   ]
  },
  {
   "cell_type": "code",
   "execution_count": 91,
   "metadata": {},
   "outputs": [],
   "source": [
    "df_games_final.columns = ['home_team', 'away_team', 'home_win_odds', 'home_dont_win_odds']"
   ]
  },
  {
   "cell_type": "code",
   "execution_count": 93,
   "metadata": {},
   "outputs": [],
   "source": [
    "df_games_final.to_csv('betting_odds_final.csv', index=False)"
   ]
  },
  {
   "cell_type": "code",
   "execution_count": 21,
   "metadata": {},
   "outputs": [
    {
     "ename": "AttributeError",
     "evalue": "'NoneType' object has no attribute 'keys'",
     "output_type": "error",
     "traceback": [
      "\u001b[1;31m---------------------------------------------------------------------------\u001b[0m",
      "\u001b[1;31mAttributeError\u001b[0m                            Traceback (most recent call last)",
      "Cell \u001b[1;32mIn[21], line 4\u001b[0m\n\u001b[0;32m      2\u001b[0m fieldnames \u001b[38;5;241m=\u001b[39m \u001b[38;5;28mset\u001b[39m()\n\u001b[0;32m      3\u001b[0m \u001b[38;5;28;01mfor\u001b[39;00m row \u001b[38;5;129;01min\u001b[39;00m games:\n\u001b[1;32m----> 4\u001b[0m     fieldnames\u001b[38;5;241m.\u001b[39mupdate(row\u001b[38;5;241m.\u001b[39mkeys())\n\u001b[0;32m      6\u001b[0m \u001b[38;5;66;03m# Specify the file name\u001b[39;00m\n\u001b[0;32m      7\u001b[0m filename \u001b[38;5;241m=\u001b[39m \u001b[38;5;124m'\u001b[39m\u001b[38;5;124mbetting_odds_winamax.csv\u001b[39m\u001b[38;5;124m'\u001b[39m\n",
      "\u001b[1;31mAttributeError\u001b[0m: 'NoneType' object has no attribute 'keys'"
     ]
    }
   ],
   "source": [
    "# Determine the fieldnames (keys of the dictionaries)\n",
    "fieldnames = set()\n",
    "for row in games:\n",
    "    fieldnames.update(row.keys())\n",
    "\n",
    "# Specify the file name\n",
    "filename = 'betting_odds_winamax.csv'\n",
    "\n",
    "# Writing to the CSV file\n",
    "with open(filename, mode='w', newline='') as file:\n",
    "    writer = csv.DictWriter(file, fieldnames=fieldnames)\n",
    "\n",
    "    # Write the header\n",
    "    writer.writeheader()\n",
    "\n",
    "    # Write the data\n",
    "    for row in games:\n",
    "        writer.writerow(row)\n",
    "\n",
    "print(f\"Data has been written to {filename}\")"
   ]
  },
  {
   "cell_type": "code",
   "execution_count": 2,
   "metadata": {},
   "outputs": [
    {
     "name": "stdout",
     "output_type": "stream",
     "text": [
      "Transformation terminée. Fichier sauvegardé sous : matches_transformed.csv\n"
     ]
    }
   ],
   "source": [
    "# Charger le fichier CSV dans un DataFrame\n",
    "file_path = 'matches.csv'\n",
    "df = pd.read_csv(file_path)\n",
    "\n",
    "# Dictionnaire de correspondance entre les noms actuels et les nouveaux noms\n",
    "team_mapping = {\n",
    "    \"Arsenal\": \"Arsenal\",\n",
    "    \"Chelsea FC\": \"Chelsea\",\n",
    "    \"Liverpool FC\": \"Liverpool\",\n",
    "    \"Luton Town F.C.\": \"Luton Town\",\n",
    "    \"Burnley\": \"Burnley\",\n",
    "    \"Brentford FC\": \"Brentford\",\n",
    "    \"Brighton & Hove Albion\": \"Brighton\",\n",
    "    \"Sheffield United FC\": \"Sheffield United\",\n",
    "    \"Crystal Palace\": \"Crystal Palace\",\n",
    "    \"Manchester City\": \"Man City\",\n",
    "    \"Everton FC\": \"Everton\",\n",
    "    \"AFC Bournemouth\": \"Bournemouth\",\n",
    "    \"Newcastle United\": \"Newcastle\",\n",
    "    \"West Ham United\": \"West Ham\",\n",
    "    \"Fulham\": \"Fulham\",\n",
    "    \"Wolverhampton Wanderers\": \"Wolves\",\n",
    "    \"Aston Villa\": \"Aston Villa\",\n",
    "    \"Nottingham Forest\": \"Nottm Forrest\",\n",
    "    \"Tottenham Hotspur\": \"Tottenham\",\n",
    "    \"Manchester United\": \"Man United\"\n",
    "}\n",
    "\n",
    "# Remplacer les noms des équipes dans les colonnes HomeTeam et AwayTeam\n",
    "df['HomeTeam'] = df['HomeTeam'].map(team_mapping)\n",
    "df['AwayTeam'] = df['AwayTeam'].map(team_mapping)\n",
    "\n",
    "# Fonction pour déterminer le résultat (1 pour victoire à domicile, 0 sinon)\n",
    "def determine_result(row):\n",
    "    home_score = int(row['Score'].split(' - ')[0])\n",
    "    away_score = int(row['Score'].split(' - ')[1])\n",
    "    if home_score > away_score:\n",
    "        return 1\n",
    "    else:\n",
    "        return 0\n",
    "\n",
    "# Appliquer la fonction pour créer la colonne Result\n",
    "df['Result'] = df.apply(determine_result, axis=1)\n",
    "\n",
    "# Sauvegarder le DataFrame modifié dans un nouveau fichier CSV\n",
    "output_file_path = 'matches_transformed.csv'\n",
    "df.to_csv(output_file_path, index=False)\n",
    "\n",
    "print(f\"Transformation terminée. Fichier sauvegardé sous : {output_file_path}\")"
   ]
  }
 ],
 "metadata": {
  "kernelspec": {
   "display_name": "base",
   "language": "python",
   "name": "python3"
  },
  "language_info": {
   "codemirror_mode": {
    "name": "ipython",
    "version": 3
   },
   "file_extension": ".py",
   "mimetype": "text/x-python",
   "name": "python",
   "nbconvert_exporter": "python",
   "pygments_lexer": "ipython3",
   "version": "3.11.5"
  }
 },
 "nbformat": 4,
 "nbformat_minor": 2
}
