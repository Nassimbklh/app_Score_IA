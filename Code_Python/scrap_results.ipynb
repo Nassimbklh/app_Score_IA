{
 "cells": [
  {
   "cell_type": "code",
   "execution_count": 1,
   "metadata": {},
   "outputs": [],
   "source": [
    "import pandas as pd\n",
    "import requests\n",
    "from bs4 import BeautifulSoup\n",
    "import csv"
   ]
  },
  {
   "cell_type": "code",
   "execution_count": 12,
   "metadata": {},
   "outputs": [
    {
     "name": "stdout",
     "output_type": "stream",
     "text": [
      "Données sauvegardées dans matches.csv\n"
     ]
    }
   ],
   "source": [
    "# URL de base avec le paramètre page_number\n",
    "base_url = \"https://footballdatabase.com/league-scores/england-premier-league-2023-2024/{}\"\n",
    "\n",
    "# Nombre de pages à scraper\n",
    "num_pages = 6  # Par exemple, scraper les 5 premières pages\n",
    "\n",
    "# Liste pour stocker les résultats\n",
    "results = []\n",
    "\n",
    "# Boucle à travers les pages\n",
    "for page_number in range(1, num_pages + 1):\n",
    "    # URL de la page spécifique\n",
    "    url = base_url.format(page_number)\n",
    "\n",
    "    # Faire la requête GET\n",
    "    response = requests.get(url)\n",
    "\n",
    "    # Vérifier si la requête a réussi\n",
    "    if response.status_code == 200:\n",
    "        # Parser le contenu HTML\n",
    "        soup = BeautifulSoup(response.content, 'html.parser')\n",
    "\n",
    "        # Trouver tous les matchs\n",
    "        matches = soup.find_all('div', class_='club-gamelist-match')\n",
    "\n",
    "        # Parcourir chaque match trouvé\n",
    "        for match in matches:\n",
    "            # Récupérer le nom de l'équipe à domicile\n",
    "            home_team = match.find('a', class_='limittext').get('title')\n",
    "\n",
    "            # Récupérer le nom de l'équipe à l'extérieur\n",
    "            away_team = match.find('a', class_='sm_logo-name_away').get('title')\n",
    "\n",
    "            # Récupérer le score\n",
    "            score = match.find('div', class_='club-gamelist-match-score').text.strip()\n",
    "\n",
    "            # Ajouter le match à la liste des résultats\n",
    "            results.append([home_team, away_team, score])\n",
    "\n",
    "    else:\n",
    "        print(f\"Erreur {response.status_code} lors de la récupération de la page {url}\")\n",
    "\n",
    "# Nom du fichier CSV à créer\n",
    "csv_filename = 'matches.csv'\n",
    "\n",
    "# Écriture des résultats dans un fichier CSV\n",
    "with open(csv_filename, mode='w', newline='', encoding='utf-8') as file:\n",
    "    writer = csv.writer(file)\n",
    "    writer.writerow(['HomeTeam', 'AwayTeam', 'Score'])  # Écrire l'en-tête des colonnes\n",
    "    writer.writerows(results)\n",
    "\n",
    "print(f\"Données sauvegardées dans {csv_filename}\")"
   ]
  },
  {
   "cell_type": "code",
   "execution_count": 2,
   "metadata": {},
   "outputs": [
    {
     "name": "stdout",
     "output_type": "stream",
     "text": [
      "Transformation terminée. Fichier sauvegardé sous : matches_transformed.csv\n"
     ]
    }
   ],
   "source": [
    "# Charger le fichier CSV dans un DataFrame\n",
    "file_path = 'matches.csv'\n",
    "df = pd.read_csv(file_path)\n",
    "\n",
    "# Dictionnaire de correspondance entre les noms actuels et les nouveaux noms\n",
    "team_mapping = {\n",
    "    \"Arsenal\": \"Arsenal\",\n",
    "    \"Chelsea FC\": \"Chelsea\",\n",
    "    \"Liverpool FC\": \"Liverpool\",\n",
    "    \"Luton Town F.C.\": \"Luton Town\",\n",
    "    \"Burnley\": \"Burnley\",\n",
    "    \"Brentford FC\": \"Brentford\",\n",
    "    \"Brighton & Hove Albion\": \"Brighton\",\n",
    "    \"Sheffield United FC\": \"Sheffield United\",\n",
    "    \"Crystal Palace\": \"Crystal Palace\",\n",
    "    \"Manchester City\": \"Man City\",\n",
    "    \"Everton FC\": \"Everton\",\n",
    "    \"AFC Bournemouth\": \"Bournemouth\",\n",
    "    \"Newcastle United\": \"Newcastle\",\n",
    "    \"West Ham United\": \"West Ham\",\n",
    "    \"Fulham\": \"Fulham\",\n",
    "    \"Wolverhampton Wanderers\": \"Wolves\",\n",
    "    \"Aston Villa\": \"Aston Villa\",\n",
    "    \"Nottingham Forest\": \"Nottm Forrest\",\n",
    "    \"Tottenham Hotspur\": \"Tottenham\",\n",
    "    \"Manchester United\": \"Man United\"\n",
    "}\n",
    "\n",
    "# Remplacer les noms des équipes dans les colonnes HomeTeam et AwayTeam\n",
    "df['HomeTeam'] = df['HomeTeam'].map(team_mapping)\n",
    "df['AwayTeam'] = df['AwayTeam'].map(team_mapping)\n",
    "\n",
    "# Fonction pour déterminer le résultat (1 pour victoire à domicile, 0 sinon)\n",
    "def determine_result(row):\n",
    "    home_score = int(row['Score'].split(' - ')[0])\n",
    "    away_score = int(row['Score'].split(' - ')[1])\n",
    "    if home_score > away_score:\n",
    "        return 1\n",
    "    else:\n",
    "        return 0\n",
    "\n",
    "# Appliquer la fonction pour créer la colonne Result\n",
    "df['Result'] = df.apply(determine_result, axis=1)\n",
    "\n",
    "# Sauvegarder le DataFrame modifié dans un nouveau fichier CSV\n",
    "output_file_path = 'matches_transformed.csv'\n",
    "df.to_csv(output_file_path, index=False)\n",
    "\n",
    "print(f\"Transformation terminée. Fichier sauvegardé sous : {output_file_path}\")"
   ]
  }
 ],
 "metadata": {
  "kernelspec": {
   "display_name": "base",
   "language": "python",
   "name": "python3"
  },
  "language_info": {
   "codemirror_mode": {
    "name": "ipython",
    "version": 3
   },
   "file_extension": ".py",
   "mimetype": "text/x-python",
   "name": "python",
   "nbconvert_exporter": "python",
   "pygments_lexer": "ipython3",
   "version": "3.11.5"
  }
 },
 "nbformat": 4,
 "nbformat_minor": 2
}
