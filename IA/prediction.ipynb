{
 "cells": [
  {
   "cell_type": "code",
   "execution_count": 1,
   "id": "63d966d17178c611",
   "metadata": {
    "ExecuteTime": {
     "end_time": "2024-06-20T09:44:22.632113Z",
     "start_time": "2024-06-20T09:44:22.572453Z"
    }
   },
   "outputs": [],
   "source": [
    "import pandas as pd\n",
    "import joblib\n",
    "import numpy as np\n",
    "from sklearn.preprocessing import LabelEncoder"
   ]
  },
  {
   "cell_type": "code",
   "execution_count": 2,
   "id": "7357748fcd4fde49",
   "metadata": {
    "ExecuteTime": {
     "end_time": "2024-06-20T09:44:22.798364Z",
     "start_time": "2024-06-20T09:44:22.633055Z"
    }
   },
   "outputs": [],
   "source": [
    "team_dict = pd.read_csv('team_dict.csv')\n",
    "model = joblib.load('Random_forest.sav')\n",
    "match = pd.read_csv('predicted_match_features.csv')"
   ]
  },
  {
   "cell_type": "code",
   "execution_count": 3,
   "id": "5d04f42d6b3fe277",
   "metadata": {
    "ExecuteTime": {
     "end_time": "2024-06-20T09:44:22.801878Z",
     "start_time": "2024-06-20T09:44:22.799076Z"
    }
   },
   "outputs": [],
   "source": [
    "# Dictionnaire des IDs d'équipe\n",
    "team_ids = team_dict.set_index('Team')['ID'].to_dict()"
   ]
  },
  {
   "cell_type": "code",
   "execution_count": 4,
   "id": "1f6a25dbc324a4e9",
   "metadata": {
    "ExecuteTime": {
     "end_time": "2024-06-20T09:44:22.809246Z",
     "start_time": "2024-06-20T09:44:22.803480Z"
    }
   },
   "outputs": [],
   "source": [
    "def preprocess_data(df, labelencoded=False):\n",
    "    # Convertir les noms d'équipe en IDs en utilisant le dictionnaire team_ids\n",
    "    df['HomeTeam'] = df['HomeTeam'].replace(team_ids).astype('int32')\n",
    "    df['AwayTeam'] = df['AwayTeam'].replace(team_ids).astype('int32')\n",
    "\n",
    "    if not labelencoded:\n",
    "        le = LabelEncoder()\n",
    "        le.classes_ = np.array(['NH', 'H'])\n",
    "        df['FTR'] = le.transform(df['FTR'])\n",
    "    return df\n",
    "\n",
    "# Prétraiter les données\n",
    "datatest = preprocess_data(match, labelencoded=True)\n"
   ]
  },
  {
   "cell_type": "code",
   "execution_count": 5,
   "id": "af43a1f62f09b5d8",
   "metadata": {
    "ExecuteTime": {
     "end_time": "2024-06-20T09:44:22.813525Z",
     "start_time": "2024-06-20T09:44:22.810681Z"
    }
   },
   "outputs": [],
   "source": [
    "features = ['HomeTeam', 'AwayTeam', 'FTHG', 'FTAG', 'HTGS', 'ATGS', 'HTGC'\n",
    "            , 'ATGC', 'HTP', 'ATP', 'MW', 'HTFormPts', 'ATFormPts'\n",
    "            , 'HTWinStreak3', 'HTWinStreak5', 'HTLossStreak3', 'HTLossStreak5'\n",
    "            , 'ATWinStreak3', 'ATWinStreak5', 'ATLossStreak3', 'ATLossStreak5'\n",
    "            , 'HTGD', 'ATGD', 'DiffPts', 'DiffFormPts']"
   ]
  },
  {
   "cell_type": "code",
   "execution_count": 6,
   "id": "a5b88873653cefb2",
   "metadata": {
    "ExecuteTime": {
     "end_time": "2024-06-20T09:44:22.822048Z",
     "start_time": "2024-06-20T09:44:22.814182Z"
    }
   },
   "outputs": [
    {
     "name": "stdout",
     "output_type": "stream",
     "text": [
      "0   NaN\n",
      "Name: FTR, dtype: float64\n"
     ]
    }
   ],
   "source": [
    "X_test = match[features]\n",
    "y_test = match['FTR']\n",
    "print(match['FTR'])"
   ]
  },
  {
   "cell_type": "code",
   "execution_count": 7,
   "id": "3064e36d87758f58",
   "metadata": {
    "ExecuteTime": {
     "end_time": "2024-06-20T09:44:22.834492Z",
     "start_time": "2024-06-20T09:44:22.824726Z"
    }
   },
   "outputs": [
    {
     "name": "stdout",
     "output_type": "stream",
     "text": [
      "Match: Arsenal vs Everton, Prediction: 1\n",
      "[1]\n"
     ]
    }
   ],
   "source": [
    "predicted_results = model.predict(X_test)\n",
    "# Afficher le nom des équipes prédites et le résultat de la prédiction\n",
    "for i, (home_team_id, away_team_id, prediction) in enumerate(zip(X_test['HomeTeam'], X_test['AwayTeam'], predicted_results)):\n",
    "    home_team_name = list(team_ids.keys())[list(team_ids.values()).index(home_team_id)]\n",
    "    away_team_name = list(team_ids.keys())[list(team_ids.values()).index(away_team_id)]\n",
    "    \n",
    "    # Afficher le nom des équipes prédites et le résultat de la prédiction\n",
    "    print(f\"Match: {home_team_name} vs {away_team_name}, Prediction: {prediction}\")\n",
    "\n",
    "print(predicted_results)"
   ]
  }
 ],
 "metadata": {
  "kernelspec": {
   "display_name": "Python 3",
   "language": "python",
   "name": "python3"
  },
  "language_info": {
   "codemirror_mode": {
    "name": "ipython",
    "version": 2
   },
   "file_extension": ".py",
   "mimetype": "text/x-python",
   "name": "python",
   "nbconvert_exporter": "python",
   "pygments_lexer": "ipython2",
   "version": "2.7.6"
  }
 },
 "nbformat": 4,
 "nbformat_minor": 5
}
